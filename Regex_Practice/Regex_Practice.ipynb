{
 "cells": [
  {
   "cell_type": "markdown",
   "id": "6bfe05c4",
   "metadata": {},
   "source": [
    "<a name=\"top\"> <h1>Práctica Regex</h1> <a>\n",
    "\n",
    "<strong>Extracción, transformación y carga</strong><br />\n",
    "<strong>Master Universitario en Ciencia de Datos</strong></p>\n",
    "\n",
    "<p>&nbsp;</p>\n",
    "\n",
    "\n",
    "<p style=\"text-align:right\">V&iacute;ctor Viloria V&aacute;zquez (<em>victor.viloria@cunef.edu</em>)</p>\n"
   ]
  },
  {
   "cell_type": "markdown",
   "id": "70a46499",
   "metadata": {},
   "source": [
    "<hr style=\"border:1px solid gray\">"
   ]
  },
  {
   "cell_type": "markdown",
   "id": "cd628165",
   "metadata": {},
   "source": [
    "# Enunciado"
   ]
  },
  {
   "cell_type": "markdown",
   "id": "a6ae4371",
   "metadata": {},
   "source": [
    "**Escribe un código de R o Python para validar las contraseñas que tienes más abajo de acuerdo a las siguientes condiciones:**\n",
    "\n",
    "- **Tienen que contener entre 8 y 20 caracteres (ni más, ni menos)**\n",
    "- **Debe contener al menos una mayúscula, una minúscula y un número**\n",
    "- **Tienen que contener al menos uno de estos símbolos: !#&**\n",
    "\n",
    "Puede contener dos veces &, o dos de esos símbolos, o tres pero no puede tener un $, ni un @, etc. Y es obligatorio que contenga al menos uno**\n",
    "\n",
    "\n",
    "**Escribe un código que añada al siguiente data frame la validación (es decir, una columna con valores True/False o TRUE/FALSE en función de si la contraseña cumple o no). Copia tu código en el espacio para ello.**"
   ]
  },
  {
   "cell_type": "markdown",
   "id": "8f693482",
   "metadata": {},
   "source": [
    "<hr style=\"border:1px solid gray\">"
   ]
  },
  {
   "cell_type": "markdown",
   "id": "4ebad6ac",
   "metadata": {},
   "source": [
    "## 1. Importación de librerias."
   ]
  },
  {
   "cell_type": "markdown",
   "id": "ffa18ca7",
   "metadata": {},
   "source": [
    "Importamos la libreria necesaria para utilziar expresiones regulares."
   ]
  },
  {
   "cell_type": "code",
   "execution_count": 1,
   "id": "49b046d6",
   "metadata": {},
   "outputs": [],
   "source": [
    "# Import the regex library.\n",
    "\n",
    "import re\n",
    "\n",
    "# Import pandas library for dataframes.\n",
    "\n",
    "import pandas as pd"
   ]
  },
  {
   "cell_type": "markdown",
   "id": "db5dc191",
   "metadata": {},
   "source": [
    "## 2. Resolución del ejercicio"
   ]
  },
  {
   "cell_type": "markdown",
   "id": "188b8a65",
   "metadata": {},
   "source": [
    "Creamos una lista con contraseñas de prueba y formulamos nuestra expresión."
   ]
  },
  {
   "cell_type": "code",
   "execution_count": 2,
   "id": "905df77c",
   "metadata": {},
   "outputs": [],
   "source": [
    "# Create a list 'passwords' with the examples that we want to try in our function.\n",
    "\n",
    "passwords = ['Apple34!rose', 'My87hou#4$', 'abc123', 'Estoesunaprueba!1','estoesunaprueba2@','estoEsuna$prueba#4', \n",
    "             'estoyaesdemasiadolargomepareceami', 'Pruebautilizando1$']\n",
    "\n",
    "# Create a regular expression with the statement conditions.\n",
    "\n",
    "regex = r\"^(?=.*[a-z])(?=.*[A-Z])(?=.*\\d)(?=.*[!#&])[a-zA-Z\\d!#&]{8,20}$\"\n",
    "    \n",
    "    # ^: Starts the regular expression.\n",
    "    \n",
    "    # (?=.*[a-z]): String contains at least one small letter.\n",
    "    \n",
    "    # (?=.*[A-Z]): String contains at least one capital letter.\n",
    "    \n",
    "    # (?=.*\\d): String contains at least one numerical number.\n",
    "    \n",
    "    # (?=.*[!#&]): String contains at least one of these symbols: !#&.\n",
    "    \n",
    "    # [a-zA-Z\\d!#&]{8,20}: alphanumeric and symbols permitted in the string. Then, the min and max characters in the string(8,20)\n",
    "    \n",
    "    # $: Ends the regular expression."
   ]
  },
  {
   "cell_type": "markdown",
   "id": "363f5f22",
   "metadata": {},
   "source": [
    "Comprobamos que nos devuelva las contraseñas que cumplan las condiciones del enunciado."
   ]
  },
  {
   "cell_type": "code",
   "execution_count": 3,
   "id": "4ced15f3",
   "metadata": {},
   "outputs": [
    {
     "data": {
      "text/plain": [
       "['Apple34!rose', 'Estoesunaprueba!1']"
      ]
     },
     "execution_count": 3,
     "metadata": {},
     "output_type": "execute_result"
    }
   ],
   "source": [
    "# Loop over the list 'passwords' to display the passwords that meet the conditions. \n",
    "\n",
    "[x for x in passwords if re.search(regex, x)]"
   ]
  },
  {
   "cell_type": "markdown",
   "id": "1b393fe7",
   "metadata": {},
   "source": [
    "Creamos una tabla que devuelva en una columna True o False, según si nuestras contraseñas cumplen o no las condiciones."
   ]
  },
  {
   "cell_type": "code",
   "execution_count": 4,
   "id": "f50bd005",
   "metadata": {},
   "outputs": [
    {
     "data": {
      "text/html": [
       "<div>\n",
       "<style scoped>\n",
       "    .dataframe tbody tr th:only-of-type {\n",
       "        vertical-align: middle;\n",
       "    }\n",
       "\n",
       "    .dataframe tbody tr th {\n",
       "        vertical-align: top;\n",
       "    }\n",
       "\n",
       "    .dataframe thead th {\n",
       "        text-align: right;\n",
       "    }\n",
       "</style>\n",
       "<table border=\"1\" class=\"dataframe\">\n",
       "  <thead>\n",
       "    <tr style=\"text-align: right;\">\n",
       "      <th></th>\n",
       "      <th>Contraseñas</th>\n",
       "      <th>¿Es válida?</th>\n",
       "    </tr>\n",
       "  </thead>\n",
       "  <tbody>\n",
       "    <tr>\n",
       "      <th>0</th>\n",
       "      <td>Apple34!rose</td>\n",
       "      <td>True</td>\n",
       "    </tr>\n",
       "    <tr>\n",
       "      <th>1</th>\n",
       "      <td>My87hou#4$</td>\n",
       "      <td>False</td>\n",
       "    </tr>\n",
       "    <tr>\n",
       "      <th>2</th>\n",
       "      <td>abc123</td>\n",
       "      <td>False</td>\n",
       "    </tr>\n",
       "    <tr>\n",
       "      <th>3</th>\n",
       "      <td>Estoesunaprueba!1</td>\n",
       "      <td>True</td>\n",
       "    </tr>\n",
       "    <tr>\n",
       "      <th>4</th>\n",
       "      <td>estoesunaprueba2@</td>\n",
       "      <td>False</td>\n",
       "    </tr>\n",
       "    <tr>\n",
       "      <th>5</th>\n",
       "      <td>estoEsuna$prueba#4</td>\n",
       "      <td>False</td>\n",
       "    </tr>\n",
       "    <tr>\n",
       "      <th>6</th>\n",
       "      <td>estoyaesdemasiadolargomepareceami</td>\n",
       "      <td>False</td>\n",
       "    </tr>\n",
       "    <tr>\n",
       "      <th>7</th>\n",
       "      <td>Pruebautilizando1$</td>\n",
       "      <td>False</td>\n",
       "    </tr>\n",
       "  </tbody>\n",
       "</table>\n",
       "</div>"
      ],
      "text/plain": [
       "                         Contraseñas  ¿Es válida?\n",
       "0                       Apple34!rose         True\n",
       "1                         My87hou#4$        False\n",
       "2                             abc123        False\n",
       "3                  Estoesunaprueba!1         True\n",
       "4                  estoesunaprueba2@        False\n",
       "5                 estoEsuna$prueba#4        False\n",
       "6  estoyaesdemasiadolargomepareceami        False\n",
       "7                 Pruebautilizando1$        False"
      ]
     },
     "metadata": {},
     "output_type": "display_data"
    }
   ],
   "source": [
    "# Create a function to obtain a boolean if the password meet the conditions or not.\n",
    "\n",
    "def is_valid_password(password):\n",
    "    regex = r\"^(?=.*[a-z])(?=.*[A-Z])(?=.*\\d)(?=.*[!#&])[a-zA-Z\\d!#&]{8,20}$\"\n",
    "    return bool(re.search(regex, password))\n",
    "\n",
    "# Create a DF with the example passwords.\n",
    "\n",
    "df = pd.DataFrame(passwords, columns=['Contraseñas'])\n",
    "\n",
    "# Add a validation column, using the function 'is_valid_password' over 'Contraseñas'.\n",
    "\n",
    "df['¿Es válida?'] = df['Contraseñas'].apply(is_valid_password)\n",
    "\n",
    "# Display the DF\n",
    "\n",
    "display(df)"
   ]
  }
 ],
 "metadata": {
  "kernelspec": {
   "display_name": "extraccion",
   "language": "python",
   "name": "extraccion"
  },
  "language_info": {
   "codemirror_mode": {
    "name": "ipython",
    "version": 3
   },
   "file_extension": ".py",
   "mimetype": "text/x-python",
   "name": "python",
   "nbconvert_exporter": "python",
   "pygments_lexer": "ipython3",
   "version": "3.10.6"
  }
 },
 "nbformat": 4,
 "nbformat_minor": 5
}
